{
 "cells": [
  {
   "cell_type": "code",
   "execution_count": 38,
   "metadata": {},
   "outputs": [],
   "source": [
    "import requests\n",
    "from dotenv import load_dotenv\n",
    "import os\n",
    "import json\n",
    "import pandas as pd\n",
    "import time\n",
    "import re\n",
    "import numpy as np\n",
    "import seaborn as sns\n",
    "import matplotlib.pyplot as plt\n"
   ]
  },
  {
   "cell_type": "code",
   "execution_count": null,
   "metadata": {},
   "outputs": [],
   "source": [
    "load_dotenv('.env')"
   ]
  },
  {
   "cell_type": "code",
   "execution_count": 40,
   "metadata": {},
   "outputs": [],
   "source": [
    "headers = {\n",
    "\t\"x-rapidapi-key\": os.getenv(\"x-rapidapi-key\"),\n",
    "\t\"x-rapidapi-host\": \"transfermarkt6.p.rapidapi.com\"\n",
    "}"
   ]
  },
  {
   "cell_type": "markdown",
   "metadata": {},
   "source": [
    "### Get Players Performance 2022\n"
   ]
  },
  {
   "cell_type": "code",
   "execution_count": null,
   "metadata": {},
   "outputs": [],
   "source": [
    "def getplayersperformance():\n",
    "\n",
    "    leagues = ['GB1', 'ES1', 'IT1', 'FR1', 'L1']\n",
    "\n",
    "\n",
    "    url = \"https://transfermarkt6.p.rapidapi.com/competitions/players-performance\"\n",
    "\n",
    "\n",
    "    filename = \"getplayersperformance.json\"\n",
    "\n",
    "    if os.path.exists(filename):\n",
    "\n",
    "        with open(filename, \"r\", encoding=\"utf-8\") as f:\n",
    "            existing_data = json.load(f)\n",
    "            if not isinstance(existing_data, dict):\n",
    "                existing_data = {}\n",
    "    else:\n",
    "        existing_data = {}\n",
    "\n",
    "\n",
    "    for league in leagues:\n",
    "\n",
    "        querystring = {\"id\": league, \"seasonId\": \"2024\"} \n",
    "\n",
    "        response = requests.get(url, headers=headers, params=querystring)\n",
    "\n",
    "        data = response.json()\n",
    "        existing_data[league] = data\n",
    "\n",
    "        time.sleep(2)\n",
    "\n",
    "    with open(filename, \"w\", encoding=\"utf-8\") as f:\n",
    "        json.dump(existing_data, f, indent=4, ensure_ascii=False)\n",
    "\n",
    "getplayersperformance()     \n",
    "\n"
   ]
  },
  {
   "cell_type": "code",
   "execution_count": 4,
   "metadata": {},
   "outputs": [],
   "source": [
    "getplayersperformance_2022 = \"getplayersperformance_2022.json\"\n",
    "\n",
    "def read_json_old(json_variable):\n",
    "\n",
    "    with open('getplayersperformance_2022.json', 'r') as file:\n",
    "        getplayersperformance_dict_2022 = json.load(file)\n",
    "\n",
    "    return getplayersperformance_dict_2022\n",
    "\n",
    "getplayersperformance_dict_2022 = read_json_old(getplayersperformance_2022)"
   ]
  },
  {
   "cell_type": "code",
   "execution_count": 5,
   "metadata": {},
   "outputs": [],
   "source": [
    "df_GB1 = getplayersperformance_dict_2022['GB1']['data']['player']\n",
    "\n",
    "df_ES1 = getplayersperformance_dict_2022['ES1']['data']['player']\n",
    "\n",
    "df_FR1 = getplayersperformance_dict_2022['FR1']['data']['player']\n",
    "\n",
    "df_IT1 = getplayersperformance_dict_2022['IT1']['data']['player']\n",
    "\n",
    "df_L1 = getplayersperformance_dict_2022['L1']['data']['player']\n",
    "\n",
    "df_GB1 = pd.DataFrame(df_GB1)\n",
    "\n",
    "df_ES1 = pd.DataFrame(df_ES1)\n",
    "\n",
    "df_FR1 = pd.DataFrame(df_FR1)\n",
    "\n",
    "df_IT1 = pd.DataFrame(df_IT1)\n",
    "\n",
    "df_L1 = pd.DataFrame(df_L1)"
   ]
  },
  {
   "cell_type": "code",
   "execution_count": null,
   "metadata": {},
   "outputs": [],
   "source": [
    "df_players_combined_2022 = pd.concat([df_GB1, df_ES1, df_FR1, df_IT1, df_L1], ignore_index=True)\n",
    "\n",
    "df_players_combined_2022"
   ]
  },
  {
   "cell_type": "markdown",
   "metadata": {},
   "source": [
    "### Get Players Performance 2024"
   ]
  },
  {
   "cell_type": "code",
   "execution_count": null,
   "metadata": {},
   "outputs": [],
   "source": [
    "def getplayersperformance():\n",
    "\n",
    "    leagues = ['GB1', 'ES1', 'IT1', 'FR1', 'L1']\n",
    "\n",
    "\n",
    "    url = \"https://transfermarkt6.p.rapidapi.com/competitions/players-performance\"\n",
    "\n",
    "\n",
    "    filename = \"getplayersperformance.json\"\n",
    "\n",
    "    if os.path.exists(filename):\n",
    "\n",
    "        with open(filename, \"r\", encoding=\"utf-8\") as f:\n",
    "            existing_data = json.load(f)\n",
    "            if not isinstance(existing_data, dict):\n",
    "                existing_data = {}\n",
    "    else:\n",
    "        existing_data = {}\n",
    "\n",
    "\n",
    "    for league in leagues:\n",
    "\n",
    "        querystring = {\"id\": league, \"seasonId\": \"2024\"} \n",
    "\n",
    "        response = requests.get(url, headers=headers, params=querystring)\n",
    "\n",
    "        data = response.json()\n",
    "        existing_data[league] = data\n",
    "\n",
    "        time.sleep(2)\n",
    "\n",
    "    with open(filename, \"w\", encoding=\"utf-8\") as f:\n",
    "        json.dump(existing_data, f, indent=4, ensure_ascii=False)\n",
    "\n",
    "getplayersperformance()  "
   ]
  },
  {
   "cell_type": "code",
   "execution_count": 137,
   "metadata": {},
   "outputs": [],
   "source": [
    "getplayersperformance_2024 = \"getplayersperformance_2024.json\"\n",
    "\n",
    "def read_json_old(json_variable):\n",
    "\n",
    "    with open('getplayersperformance_2024.json', 'r') as file:\n",
    "        getplayersperformance_dict_2024 = json.load(file)\n",
    "\n",
    "    return getplayersperformance_dict_2024\n",
    "\n",
    "getplayersperformance_dict_2024 = read_json_old(getplayersperformance_2024)"
   ]
  },
  {
   "cell_type": "code",
   "execution_count": 138,
   "metadata": {},
   "outputs": [],
   "source": [
    "df1_GB1 = getplayersperformance_dict_2024['GB1']['data']['player']\n",
    "\n",
    "df1_ES1 = getplayersperformance_dict_2024['ES1']['data']['player']\n",
    "\n",
    "df1_FR1 = getplayersperformance_dict_2024['FR1']['data']['player']\n",
    "\n",
    "df1_IT1 = getplayersperformance_dict_2024['IT1']['data']['player']\n",
    "\n",
    "df1_L1 = getplayersperformance_dict_2024['L1']['data']['player']\n",
    "\n",
    "df1_GB1 = pd.DataFrame(df1_GB1)\n",
    "\n",
    "df1_ES1 = pd.DataFrame(df1_ES1)\n",
    "\n",
    "df1_FR1 = pd.DataFrame(df1_FR1)\n",
    "\n",
    "df1_IT1 = pd.DataFrame(df1_IT1)\n",
    "\n",
    "df1_L1 = pd.DataFrame(df1_L1)"
   ]
  },
  {
   "cell_type": "code",
   "execution_count": null,
   "metadata": {},
   "outputs": [],
   "source": [
    "df_players_combined_2024 = pd.concat([df1_GB1, df1_ES1, df1_FR1, df1_IT1, df1_L1], ignore_index=True)\n",
    "\n",
    "df_players_combined_2024"
   ]
  },
  {
   "cell_type": "markdown",
   "metadata": {},
   "source": [
    "### Clean 2022 and 2024 datsets"
   ]
  },
  {
   "cell_type": "code",
   "execution_count": null,
   "metadata": {},
   "outputs": [],
   "source": [
    "df_players_combined_2024\n",
    "\n",
    "df_players_combined_2022"
   ]
  },
  {
   "cell_type": "code",
   "execution_count": 184,
   "metadata": {},
   "outputs": [],
   "source": [
    "def add_underscore_before_caps(col_name):\n",
    "    return re.sub(r'([A-Z])', r'_\\1', col_name).lower().lstrip('_')\n",
    "\n",
    "\n",
    "df_players_combined_2022.columns = [add_underscore_before_caps(col) for col in df_players_combined_2022.columns]"
   ]
  },
  {
   "cell_type": "code",
   "execution_count": 185,
   "metadata": {},
   "outputs": [],
   "source": [
    "df_players_combined_2022.rename(columns={'id': 'player_id'}, inplace=True)"
   ]
  },
  {
   "cell_type": "code",
   "execution_count": 186,
   "metadata": {},
   "outputs": [],
   "source": [
    "df_players_combined_2022 = df_players_combined_2022[['player_id', 'goals', 'assists', 'minutes_played']]"
   ]
  },
  {
   "cell_type": "code",
   "execution_count": null,
   "metadata": {},
   "outputs": [],
   "source": [
    "df_players_combined_2022\n"
   ]
  },
  {
   "cell_type": "code",
   "execution_count": 145,
   "metadata": {},
   "outputs": [],
   "source": [
    "def add_underscore_before_caps(col_name):\n",
    "    return re.sub(r'([A-Z])', r'_\\1', col_name).lower().lstrip('_')\n",
    "\n",
    "\n",
    "df_players_combined_2024.columns = [add_underscore_before_caps(col) for col in df_players_combined_2024.columns]"
   ]
  },
  {
   "cell_type": "code",
   "execution_count": 146,
   "metadata": {},
   "outputs": [],
   "source": [
    "df_players_combined_2024.rename(columns={'id': 'player_id'}, inplace=True)"
   ]
  },
  {
   "cell_type": "code",
   "execution_count": 147,
   "metadata": {},
   "outputs": [],
   "source": [
    "df_players_combined_2024 = df_players_combined_2024[['player_id', 'goals', 'assists', 'minutes_played']]"
   ]
  },
  {
   "cell_type": "code",
   "execution_count": null,
   "metadata": {},
   "outputs": [],
   "source": [
    "df_players_combined_2024"
   ]
  },
  {
   "cell_type": "code",
   "execution_count": null,
   "metadata": {},
   "outputs": [],
   "source": [
    "df_players_combined_2022.dtypes\n",
    "df_players_combined_2024.dtypes"
   ]
  },
  {
   "cell_type": "code",
   "execution_count": null,
   "metadata": {},
   "outputs": [],
   "source": [
    "df_players_combined_2022.isna().sum()\n",
    "df_players_combined_2024.isna().sum()"
   ]
  },
  {
   "cell_type": "code",
   "execution_count": null,
   "metadata": {},
   "outputs": [],
   "source": [
    "df_players_combined_2022.duplicated().sum()\n",
    "df_players_combined_2024.duplicated().sum()"
   ]
  },
  {
   "cell_type": "markdown",
   "metadata": {},
   "source": [
    "### Goal Contribution Efficiency Column 2024\n"
   ]
  },
  {
   "cell_type": "code",
   "execution_count": null,
   "metadata": {},
   "outputs": [],
   "source": [
    "df_players_combined_2024\n",
    "\n",
    "df_players_combined_2022"
   ]
  },
  {
   "cell_type": "code",
   "execution_count": 153,
   "metadata": {},
   "outputs": [],
   "source": [
    "def goal_contribution_efficiency(data_set):\n",
    "\n",
    "    def calculate_efficiency(row):\n",
    "\n",
    "        if row['goals'] + row['assists'] > 0 and row['minutes_played'] > 0: \n",
    "\n",
    "            return round(row['minutes_played'] / (row['goals'] + row['assists']),2)\n",
    "        \n",
    "        else:\n",
    "\n",
    "            return np.nan \n",
    "\n",
    "    \n",
    "    data_set['minutes_per_g_a'] = data_set.apply(calculate_efficiency, axis=1)\n",
    "\n",
    "    return data_set\n",
    "\n",
    "\n"
   ]
  },
  {
   "cell_type": "code",
   "execution_count": null,
   "metadata": {},
   "outputs": [],
   "source": [
    "goal_contribution_efficiency(df_players_combined_2024)"
   ]
  },
  {
   "cell_type": "code",
   "execution_count": 155,
   "metadata": {},
   "outputs": [],
   "source": [
    "df_players_combined_2024 = df_players_combined_2024.dropna()"
   ]
  },
  {
   "cell_type": "code",
   "execution_count": 156,
   "metadata": {},
   "outputs": [],
   "source": [
    "df_players_combined_2024 = df_players_combined_2024.reset_index(drop=True)"
   ]
  },
  {
   "cell_type": "code",
   "execution_count": null,
   "metadata": {},
   "outputs": [],
   "source": [
    "df_players_combined_2024"
   ]
  },
  {
   "cell_type": "code",
   "execution_count": 175,
   "metadata": {},
   "outputs": [],
   "source": [
    "df_players_combined_2024 = pd.read_csv('df_players_combined_2024.csv')"
   ]
  },
  {
   "cell_type": "markdown",
   "metadata": {},
   "source": [
    "### Goal Contribution Efficiency Column 2022"
   ]
  },
  {
   "cell_type": "code",
   "execution_count": null,
   "metadata": {},
   "outputs": [],
   "source": [
    "goal_contribution_efficiency(df_players_combined_2022)"
   ]
  },
  {
   "cell_type": "code",
   "execution_count": 189,
   "metadata": {},
   "outputs": [],
   "source": [
    "df_players_combined_2022 = df_players_combined_2022.dropna()"
   ]
  },
  {
   "cell_type": "code",
   "execution_count": 190,
   "metadata": {},
   "outputs": [],
   "source": [
    "df_players_combined_2022 = df_players_combined_2022.reset_index(drop=True)"
   ]
  },
  {
   "cell_type": "code",
   "execution_count": 107,
   "metadata": {},
   "outputs": [],
   "source": [
    "# How to drop them\n",
    "# df_players_combined_2022 = df_players_combined_2022.drop(columns=['index'])"
   ]
  },
  {
   "cell_type": "code",
   "execution_count": null,
   "metadata": {},
   "outputs": [],
   "source": [
    "df_players_combined_2022"
   ]
  },
  {
   "cell_type": "code",
   "execution_count": 192,
   "metadata": {},
   "outputs": [],
   "source": [
    "df_players_combined_2022 = pd.read_csv('df_players_combined_2022.csv')"
   ]
  },
  {
   "cell_type": "code",
   "execution_count": null,
   "metadata": {},
   "outputs": [],
   "source": [
    "df_players_combined_2022"
   ]
  },
  {
   "cell_type": "markdown",
   "metadata": {},
   "source": [
    "### Top 5 players for 2024"
   ]
  },
  {
   "cell_type": "code",
   "execution_count": 195,
   "metadata": {},
   "outputs": [],
   "source": [
    "df_top5_2024 = df_players_combined_2024"
   ]
  },
  {
   "cell_type": "code",
   "execution_count": 196,
   "metadata": {},
   "outputs": [],
   "source": [
    "df_top5_2024 = df_top5_2024[(df_top5_2024['minutes_played'] > 1000)]"
   ]
  },
  {
   "cell_type": "code",
   "execution_count": null,
   "metadata": {},
   "outputs": [],
   "source": [
    "df_top5_2024['minutes_played'].mean()"
   ]
  },
  {
   "cell_type": "code",
   "execution_count": 198,
   "metadata": {},
   "outputs": [],
   "source": [
    "df_top5_2024 = df_top5_2024[(df_top5_2024['minutes_played'] > 1582)]"
   ]
  },
  {
   "cell_type": "code",
   "execution_count": 199,
   "metadata": {},
   "outputs": [],
   "source": [
    "df_top5_2024 = df_top5_2024.sort_values(by='minutes_per_g_a', ascending=True)"
   ]
  },
  {
   "cell_type": "code",
   "execution_count": 200,
   "metadata": {},
   "outputs": [],
   "source": [
    "df_top5_2024 = df_top5_2024.reset_index(drop=True)"
   ]
  },
  {
   "cell_type": "code",
   "execution_count": 201,
   "metadata": {},
   "outputs": [],
   "source": [
    "df_top5_2024 = df_top5_2024.head(5)"
   ]
  },
  {
   "cell_type": "code",
   "execution_count": null,
   "metadata": {},
   "outputs": [],
   "source": [
    "df_top5_2024"
   ]
  },
  {
   "cell_type": "markdown",
   "metadata": {},
   "source": [
    "### Top 5 players for 2022"
   ]
  },
  {
   "cell_type": "code",
   "execution_count": 203,
   "metadata": {},
   "outputs": [],
   "source": [
    "df_top5_2022 = df_players_combined_2022"
   ]
  },
  {
   "cell_type": "code",
   "execution_count": 204,
   "metadata": {},
   "outputs": [],
   "source": [
    "df_top5_2022 = df_top5_2022[(df_top5_2022['minutes_played'] > 1000)]"
   ]
  },
  {
   "cell_type": "code",
   "execution_count": null,
   "metadata": {},
   "outputs": [],
   "source": [
    "df_top5_2022['minutes_played'].mean()"
   ]
  },
  {
   "cell_type": "code",
   "execution_count": 206,
   "metadata": {},
   "outputs": [],
   "source": [
    "df_top5_2022 = df_top5_2022[(df_top5_2022['minutes_played'] > 2045)]"
   ]
  },
  {
   "cell_type": "code",
   "execution_count": 207,
   "metadata": {},
   "outputs": [],
   "source": [
    "df_top5_2022 = df_top5_2022.sort_values(by='minutes_per_g_a', ascending=True)"
   ]
  },
  {
   "cell_type": "code",
   "execution_count": 208,
   "metadata": {},
   "outputs": [],
   "source": [
    "df_top5_2022 = df_top5_2022.reset_index(drop=True)"
   ]
  },
  {
   "cell_type": "code",
   "execution_count": 209,
   "metadata": {},
   "outputs": [],
   "source": [
    "df_top5_2022 = df_top5_2022.head(5)"
   ]
  },
  {
   "cell_type": "code",
   "execution_count": null,
   "metadata": {},
   "outputs": [],
   "source": [
    "df_top5_2022"
   ]
  },
  {
   "cell_type": "markdown",
   "metadata": {},
   "source": [
    "### Players Profile Info 2022\n"
   ]
  },
  {
   "cell_type": "code",
   "execution_count": 211,
   "metadata": {},
   "outputs": [],
   "source": [
    "list_top5_2022_ids = list(df_top5_2022['player_id'])\n",
    "list_top5_2024_ids = list(df_top5_2024['player_id'])"
   ]
  },
  {
   "cell_type": "code",
   "execution_count": null,
   "metadata": {},
   "outputs": [],
   "source": [
    "list_top5_2022_ids"
   ]
  },
  {
   "cell_type": "code",
   "execution_count": null,
   "metadata": {},
   "outputs": [],
   "source": [
    "list_top5_2024_ids"
   ]
  },
  {
   "cell_type": "code",
   "execution_count": null,
   "metadata": {},
   "outputs": [],
   "source": [
    "def getplayersinfo(df_players_ids):\n",
    "\n",
    "    url = \"https://transfermarkt6.p.rapidapi.com/players/profile\"\n",
    "\n",
    "\n",
    "    filename = \"getplayersinfo.json\"\n",
    "\n",
    "    if os.path.exists(filename):\n",
    "\n",
    "        with open(filename, \"r\", encoding=\"utf-8\") as f:\n",
    "            existing_data = json.load(f)\n",
    "            if not isinstance(existing_data, dict):\n",
    "                existing_data = {}\n",
    "    else:\n",
    "        existing_data = {}\n",
    "\n",
    "\n",
    "    for id in df_players_ids:\n",
    "\n",
    "        querystring = {\"id\":id}\n",
    "\n",
    "        response = requests.get(url, headers=headers, params=querystring)\n",
    "\n",
    "        data = response.json()\n",
    "        existing_data[id] = data\n",
    "\n",
    "        time.sleep(2)\n",
    "\n",
    "    with open(filename, \"w\", encoding=\"utf-8\") as f:\n",
    "        json.dump(existing_data, f, indent=4, ensure_ascii=False)\n",
    "\n",
    "\n",
    "    response = requests.get(url, headers=headers, params=querystring)\n"
   ]
  },
  {
   "cell_type": "code",
   "execution_count": 468,
   "metadata": {},
   "outputs": [],
   "source": [
    "getplayersinfo(list_top5_2022_ids)"
   ]
  },
  {
   "cell_type": "code",
   "execution_count": 6,
   "metadata": {},
   "outputs": [],
   "source": [
    "def read_json_ALL(json_filename):\n",
    "    with open(json_filename, 'r') as file:\n",
    "        data = json.load(file)\n",
    "    return data"
   ]
  },
  {
   "cell_type": "code",
   "execution_count": 7,
   "metadata": {},
   "outputs": [],
   "source": [
    "getplayersinfo_2022 = read_json_ALL(\"getplayersinfo_2022.json\")"
   ]
  },
  {
   "cell_type": "code",
   "execution_count": null,
   "metadata": {},
   "outputs": [],
   "source": [
    "getplayersinfo_2022"
   ]
  },
  {
   "cell_type": "code",
   "execution_count": 9,
   "metadata": {},
   "outputs": [],
   "source": [
    "def clean_players_info(players_dict):\n",
    "\n",
    "    output_list = []\n",
    "\n",
    "    for player_id, player_data in players_dict.items():\n",
    "        player_profile = player_data.get('data', {}).get('playerProfile', {})\n",
    "\n",
    "        if not player_profile:\n",
    "            continue\n",
    "\n",
    "        player_id = player_profile.get('playerID', '')\n",
    "        player_name = player_profile.get('playerName', '')\n",
    "\n",
    "\n",
    "\n",
    "        market_value = (\n",
    "            str(player_profile.get('marketValue', ' ')) + \" \" +\n",
    "            str(player_profile.get('marketValueCurrency', ' ')) + \" \" +\n",
    "            str(player_profile.get('marketValueNumeral', ' '))\n",
    "        )\n",
    "\n",
    "        output_list.append({\n",
    "            'player_id': player_id,\n",
    "            'player_name': player_name,\n",
    "            'market_value': market_value\n",
    "        })\n",
    "\n",
    "    return output_list\n"
   ]
  },
  {
   "cell_type": "code",
   "execution_count": 10,
   "metadata": {},
   "outputs": [],
   "source": [
    "players_info_2022 = clean_players_info(getplayersinfo_2022)"
   ]
  },
  {
   "cell_type": "code",
   "execution_count": null,
   "metadata": {},
   "outputs": [],
   "source": [
    "players_info_2022"
   ]
  },
  {
   "cell_type": "code",
   "execution_count": 11,
   "metadata": {},
   "outputs": [],
   "source": [
    "df_players_info_2022 = pd.DataFrame(players_info_2022)"
   ]
  },
  {
   "cell_type": "code",
   "execution_count": null,
   "metadata": {},
   "outputs": [],
   "source": [
    "df_players_info_2022"
   ]
  },
  {
   "cell_type": "markdown",
   "metadata": {},
   "source": [
    "### Players Profile Info 2024"
   ]
  },
  {
   "cell_type": "code",
   "execution_count": null,
   "metadata": {},
   "outputs": [],
   "source": [
    "getplayersinfo(list_top5_2024_ids)"
   ]
  },
  {
   "cell_type": "code",
   "execution_count": 259,
   "metadata": {},
   "outputs": [],
   "source": [
    "getplayersinfo_2024 = read_json_ALL(\"getplayersinfo_2024.json\")"
   ]
  },
  {
   "cell_type": "code",
   "execution_count": null,
   "metadata": {},
   "outputs": [],
   "source": [
    "getplayersinfo_2024"
   ]
  },
  {
   "cell_type": "code",
   "execution_count": 261,
   "metadata": {},
   "outputs": [],
   "source": [
    "players_info_2024 = clean_players_info(getplayersinfo_2024)"
   ]
  },
  {
   "cell_type": "code",
   "execution_count": null,
   "metadata": {},
   "outputs": [],
   "source": [
    "players_info_2024"
   ]
  },
  {
   "cell_type": "code",
   "execution_count": 263,
   "metadata": {},
   "outputs": [],
   "source": [
    "df_players_info_2024 = pd.DataFrame(players_info_2024)"
   ]
  },
  {
   "cell_type": "code",
   "execution_count": null,
   "metadata": {},
   "outputs": [],
   "source": [
    "df_players_info_2024"
   ]
  },
  {
   "cell_type": "markdown",
   "metadata": {},
   "source": [
    "### Merge 2024 Top 5 Players Info & Perfomance DataFrames"
   ]
  },
  {
   "cell_type": "code",
   "execution_count": 266,
   "metadata": {},
   "outputs": [],
   "source": [
    "df_top5_2024['player_id'] = df_top5_2024['player_id'].astype(int)\n",
    "df_players_info_2024['player_id'] = df_players_info_2024['player_id'].astype(int)"
   ]
  },
  {
   "cell_type": "code",
   "execution_count": 267,
   "metadata": {},
   "outputs": [],
   "source": [
    "df_top5_2024 = pd.merge(df_top5_2024,df_players_info_2024, on = 'player_id', how = 'left')"
   ]
  },
  {
   "cell_type": "code",
   "execution_count": 268,
   "metadata": {},
   "outputs": [],
   "source": [
    "df_top5_2024.drop(columns = ['player_id'], inplace = True)"
   ]
  },
  {
   "cell_type": "code",
   "execution_count": null,
   "metadata": {},
   "outputs": [],
   "source": [
    "df_top5_2024"
   ]
  },
  {
   "cell_type": "code",
   "execution_count": 276,
   "metadata": {},
   "outputs": [],
   "source": [
    "df_top5_2024 = df_top5_2024.reindex(columns = ['player_name', 'market_value', 'goals', 'assists', 'minutes_played', 'minutes_per_g_a'])"
   ]
  },
  {
   "cell_type": "code",
   "execution_count": null,
   "metadata": {},
   "outputs": [],
   "source": [
    "df_top5_2024"
   ]
  },
  {
   "cell_type": "markdown",
   "metadata": {},
   "source": [
    "### Merge 2022 Top 5 Players Info & Perfomance DataFrames"
   ]
  },
  {
   "cell_type": "code",
   "execution_count": 270,
   "metadata": {},
   "outputs": [],
   "source": [
    "df_top5_2022['player_id'] = df_top5_2022['player_id'].astype(int)\n",
    "df_players_info_2022['player_id'] = df_players_info_2022['player_id'].astype(int)"
   ]
  },
  {
   "cell_type": "code",
   "execution_count": 271,
   "metadata": {},
   "outputs": [],
   "source": [
    "df_top5_2022 = pd.merge(df_top5_2022,df_players_info_2022, on = 'player_id', how = 'left')"
   ]
  },
  {
   "cell_type": "code",
   "execution_count": 272,
   "metadata": {},
   "outputs": [],
   "source": [
    "df_top5_2022.drop(columns = ['player_id'], inplace = True)"
   ]
  },
  {
   "cell_type": "code",
   "execution_count": null,
   "metadata": {},
   "outputs": [],
   "source": [
    "df_top5_2022"
   ]
  },
  {
   "cell_type": "code",
   "execution_count": 278,
   "metadata": {},
   "outputs": [],
   "source": [
    "df_top5_2022 = df_top5_2022.reindex(columns = ['player_name', 'market_value', 'goals', 'assists', 'minutes_played', 'minutes_per_g_a'])"
   ]
  },
  {
   "cell_type": "code",
   "execution_count": null,
   "metadata": {},
   "outputs": [],
   "source": [
    "df_top5_2022"
   ]
  },
  {
   "cell_type": "markdown",
   "metadata": {},
   "source": [
    "#### EDA"
   ]
  },
  {
   "cell_type": "markdown",
   "metadata": {},
   "source": [
    "### Hypothesis 1 - None of the top 5 players will be cheaper than 50M EUR - 2024\n",
    " "
   ]
  },
  {
   "cell_type": "code",
   "execution_count": 42,
   "metadata": {},
   "outputs": [],
   "source": [
    "df_top5_2024 = pd.read_csv('df_top5_2024.csv')"
   ]
  },
  {
   "cell_type": "code",
   "execution_count": null,
   "metadata": {},
   "outputs": [],
   "source": [
    "df_top5_2024.dtypes"
   ]
  },
  {
   "cell_type": "code",
   "execution_count": 44,
   "metadata": {},
   "outputs": [],
   "source": [
    "df_top5_2024['market_value'] = df_top5_2024['market_value'].str.replace(',00 € Mio.' , '')"
   ]
  },
  {
   "cell_type": "code",
   "execution_count": 45,
   "metadata": {},
   "outputs": [],
   "source": [
    "df_top5_2024.rename(columns={'market_value': 'market_value_in_millions'}, inplace=True)"
   ]
  },
  {
   "cell_type": "code",
   "execution_count": 46,
   "metadata": {},
   "outputs": [],
   "source": [
    "df_top5_2024['market_value_in_millions'] = pd.to_numeric(df_top5_2024['market_value_in_millions'], errors='coerce')"
   ]
  },
  {
   "cell_type": "code",
   "execution_count": null,
   "metadata": {},
   "outputs": [],
   "source": [
    "df_top5_2024_under_50m = df_top5_2024[(df_top5_2024['market_value_in_millions'] < 50)]\n",
    "df_top5_2024_under_50m"
   ]
  },
  {
   "cell_type": "markdown",
   "metadata": {},
   "source": [
    "### Further Insight"
   ]
  },
  {
   "cell_type": "code",
   "execution_count": 33,
   "metadata": {},
   "outputs": [],
   "source": [
    "df_top5_2022 = pd.read_csv('df_top5_2022.csv')"
   ]
  },
  {
   "cell_type": "code",
   "execution_count": 35,
   "metadata": {},
   "outputs": [],
   "source": [
    "df_top5_2022['market_value'] = df_top5_2022['market_value'].str.replace(',00 € Mio.' , '')"
   ]
  },
  {
   "cell_type": "code",
   "execution_count": 36,
   "metadata": {},
   "outputs": [],
   "source": [
    "df_top5_2022.rename(columns={'market_value': 'market_value_in_millions'}, inplace=True)"
   ]
  },
  {
   "cell_type": "code",
   "execution_count": null,
   "metadata": {},
   "outputs": [],
   "source": [
    "df_top5_2022"
   ]
  },
  {
   "cell_type": "code",
   "execution_count": 32,
   "metadata": {},
   "outputs": [],
   "source": [
    "df_top5_2022['market_value_in_millions'] = pd.to_numeric(df_top5_2022['market_value_in_millions'], errors='coerce')"
   ]
  },
  {
   "cell_type": "code",
   "execution_count": null,
   "metadata": {},
   "outputs": [],
   "source": [
    "df_top5_2022.dtypes"
   ]
  },
  {
   "cell_type": "code",
   "execution_count": 28,
   "metadata": {},
   "outputs": [],
   "source": [
    "# Market value divided by goals + assists\n",
    "df_top5_2022_value = df_top5_2022.copy()\n",
    "\n",
    "df_top5_2022_value['market_value_per_g_a_milions'] = round(df_top5_2022['market_value_in_millions'] / (df_top5_2022['goals'] + df_top5_2022['assists']), 2)"
   ]
  },
  {
   "cell_type": "code",
   "execution_count": null,
   "metadata": {},
   "outputs": [],
   "source": [
    "df_top5_2022_value"
   ]
  },
  {
   "cell_type": "code",
   "execution_count": null,
   "metadata": {},
   "outputs": [],
   "source": [
    "df_top5_2024_value = df_top5_2024.copy()\n",
    "\n",
    "df_top5_2024_value['market_value_per_g_a_milions'] = round(df_top5_2024['market_value_in_millions'] / (df_top5_2024['goals'] + df_top5_2024['assists']), 2)"
   ]
  },
  {
   "cell_type": "code",
   "execution_count": null,
   "metadata": {},
   "outputs": [],
   "source": [
    "df_top5_2024_value"
   ]
  },
  {
   "cell_type": "code",
   "execution_count": null,
   "metadata": {},
   "outputs": [],
   "source": [
    "average_value_2024 = df_top5_2024_value['market_value_per_g_a_milions'].mean()\n",
    "average_value_2024"
   ]
  },
  {
   "cell_type": "code",
   "execution_count": null,
   "metadata": {},
   "outputs": [],
   "source": [
    "average_value_2022 = df_top5_2022_value['market_value_per_g_a_milions'].mean()\n",
    "average_value_2022"
   ]
  },
  {
   "cell_type": "code",
   "execution_count": null,
   "metadata": {},
   "outputs": [],
   "source": [
    "value_change_percentage = round((average_value_2024 - average_value_2022) / average_value_2022 * 100, 2)\n",
    "print(f'{value_change_percentage}%')"
   ]
  },
  {
   "cell_type": "code",
   "execution_count": null,
   "metadata": {},
   "outputs": [],
   "source": [
    "value_change_milions = average_value_2022 - average_value_2024\n",
    "print(f'€{value_change_milions.round(2)}M')"
   ]
  },
  {
   "cell_type": "code",
   "execution_count": 62,
   "metadata": {},
   "outputs": [],
   "source": [
    "average_minutes_per_g_a_2024 = df_top5_2024['minutes_per_g_a'].mean()\n",
    "average_minutes_per_g_a_2022 = df_top5_2022['minutes_per_g_a'].mean()"
   ]
  },
  {
   "cell_type": "code",
   "execution_count": null,
   "metadata": {},
   "outputs": [],
   "source": [
    "average_minutes_per_ga_diference = average_minutes_per_g_a_2024 - average_minutes_per_g_a_2022\n",
    "print(f'€{average_minutes_per_ga_diference.round(2)}minutes')"
   ]
  },
  {
   "cell_type": "code",
   "execution_count": null,
   "metadata": {},
   "outputs": [],
   "source": [
    "m_g_a_change_percentage = round((average_minutes_per_g_a_2024 - average_minutes_per_g_a_2022) / average_minutes_per_g_a_2022 * 100, 2)\n",
    "print(f'{m_g_a_change_percentage}%')"
   ]
  },
  {
   "cell_type": "markdown",
   "metadata": {},
   "source": [
    "### Charts "
   ]
  },
  {
   "cell_type": "code",
   "execution_count": null,
   "metadata": {},
   "outputs": [],
   "source": [
    "df_top5_2024_value"
   ]
  },
  {
   "cell_type": "code",
   "execution_count": null,
   "metadata": {},
   "outputs": [],
   "source": [
    "df_marketvalue2024 = df_top5_2024_value.sort_values(by='market_value_in_millions', ascending=True)\n",
    "\n",
    "# Plot\n",
    "plt.figure(figsize=(11, 6))\n",
    "ax = sns.barplot(\n",
    "    data=df_marketvalue2024,\n",
    "    x='market_value_in_millions',\n",
    "    y='player_name',\n",
    "    palette='Greens_r'\n",
    ")\n",
    "\n",
    "plt.xlabel(\"Market Value (€Ms)\")\n",
    "plt.ylabel(\"Player Name\")\n",
    "plt.title('Top Players Sorted by Market Value 2024')\n",
    "\n",
    "# Add value labels\n",
    "for bar in ax.patches:\n",
    "    plt.text(\n",
    "        bar.get_width(),              # X coordinate (bar length)\n",
    "        bar.get_y() + bar.get_height() / 2,  # Y coordinate (center of the bar)\n",
    "        f'{bar.get_width():.1f}',     # Format the value with 1 decimal place\n",
    "        va='center',                  # Vertical alignment\n",
    "        ha='left',                    # Horizontal alignment\n",
    "        fontsize=10,\n",
    "        color='black'\n",
    "    )\n",
    "\n",
    "plt.show()"
   ]
  },
  {
   "cell_type": "code",
   "execution_count": null,
   "metadata": {},
   "outputs": [],
   "source": [
    "df_sorted = df_top5_2024_value.sort_values(by='market_value_per_g_a_milions', ascending=True)\n",
    "\n",
    "# Plot\n",
    "plt.figure(figsize=(10, 6))\n",
    "sns.barplot(\n",
    "    data=df_sorted,\n",
    "    x='market_value_per_g_a_milions',\n",
    "    y='player_name',\n",
    "    palette='Greens_r'\n",
    ")\n",
    "\n",
    "plt.xlabel(\"Market Value Per Goal/Assist (€Ms)\")\n",
    "plt.ylabel(\"Player Name\")\n",
    "plt.title('Top Players Sorted by Market Value Per Goal/Assist 2024')\n",
    "\n",
    "plt.show()"
   ]
  },
  {
   "cell_type": "code",
   "execution_count": null,
   "metadata": {},
   "outputs": [],
   "source": [
    "df_minutesperga2024 = df_top5_2024_value.sort_values(by='minutes_per_g_a', ascending=True)\n",
    "\n",
    "# Plot\n",
    "plt.figure(figsize=(10, 6))\n",
    "sns.barplot(\n",
    "    data = df_minutesperga2024,\n",
    "    x='minutes_per_g_a',\n",
    "    y='player_name',\n",
    "    palette='Greens_r'\n",
    ")\n",
    "\n",
    "plt.xlabel(\"Minutes Per Goal/Assist\")\n",
    "plt.ylabel(\"Player Name\")\n",
    "plt.title(\"Top Players Sorted by Least Minutes per Goal/Assist 2024\")\n",
    "\n",
    "plt.show()"
   ]
  },
  {
   "cell_type": "code",
   "execution_count": null,
   "metadata": {},
   "outputs": [],
   "source": [
    "df_minutesperga2022 = df_top5_2022_value.sort_values(by='minutes_per_g_a', ascending=True)\n",
    "\n",
    "# Plot\n",
    "plt.figure(figsize=(10, 6))\n",
    "sns.barplot(\n",
    "    data = df_minutesperga2022,\n",
    "    x='minutes_per_g_a',\n",
    "    y='player_name',\n",
    "    palette='Greens_r'\n",
    ")\n",
    "\n",
    "plt.xlabel(\"Minutes Per Goal/Assist\")\n",
    "plt.ylabel(\"Player Name\")\n",
    "plt.title(\"Top Players Sorted by Least Minutes per Goal/Assist 2022\")\n",
    "\n",
    "plt.show()"
   ]
  },
  {
   "cell_type": "code",
   "execution_count": null,
   "metadata": {},
   "outputs": [],
   "source": [
    "print(value_change_percentage)\n",
    "print(average_value_2024)\n",
    "print(average_value_2022)\n",
    "print(f'€{value_change_milions.round(2)}M')\n"
   ]
  },
  {
   "cell_type": "code",
   "execution_count": null,
   "metadata": {},
   "outputs": [],
   "source": [
    "values = [average_value_2022, average_value_2024]\n",
    "years = ['2022', '2024']\n",
    "\n",
    "\n",
    "green_shades = sns.color_palette(\"Greens_r\", as_cmap=True)  \n",
    "red_shades = sns.color_palette(\"Reds\", as_cmap=True)  \n",
    "\n",
    "\n",
    "green_color = green_shades(0.3) \n",
    "red_color = red_shades(0.7)\n",
    "\n",
    "\n",
    "colors = [red_color, green_color]\n",
    "\n",
    "\n",
    "plt.figure(figsize=(6, 4))\n",
    "\n",
    "\n",
    "sns.barplot(x=years, y=values, palette=colors)\n",
    "\n",
    "\n",
    "change_text = f\"€{value_change_milions.round(2)}M ({value_change_percentage:.2f}%)\"\n",
    "plt.text(1, average_value_2024 + 0.2, change_text, ha='center', fontsize=12, fontweight='bold')\n",
    "\n",
    "\n",
    "plt.ylabel(\"Market Value Per G&A (€M)\")\n",
    "plt.xlabel(\"Year\")\n",
    "plt.title(\"Market Value Per G&A (2022 vs 2024)\")\n",
    "\n",
    "plt.show()"
   ]
  },
  {
   "cell_type": "code",
   "execution_count": null,
   "metadata": {},
   "outputs": [],
   "source": [
    "print(average_minutes_per_g_a_2024)\n",
    "print(average_minutes_per_g_a_2022)\n",
    "print(average_minutes_per_ga_diference.round(2))\n",
    "print(f'{m_g_a_change_percentage}%')"
   ]
  },
  {
   "cell_type": "code",
   "execution_count": null,
   "metadata": {},
   "outputs": [],
   "source": [
    "values = [average_minutes_per_g_a_2022, average_minutes_per_g_a_2024]\n",
    "years = ['2022', '2024']\n",
    "\n",
    "\n",
    "green_shades = sns.color_palette(\"Greens_r\", as_cmap=True)  \n",
    "red_shades = sns.color_palette(\"Reds\", as_cmap=True)  \n",
    "\n",
    "\n",
    "green_color = green_shades(0.3) \n",
    "red_color = red_shades(0.7)\n",
    "\n",
    "\n",
    "colors = [red_color, green_color]\n",
    "\n",
    "\n",
    "plt.figure(figsize=(6, 4))\n",
    "\n",
    "\n",
    "sns.barplot(x=years, y=values, palette=colors)\n",
    "\n",
    "\n",
    "change_text = f\"{average_minutes_per_ga_diference.round(2)}minutes ({m_g_a_change_percentage:.2f}%)\"\n",
    "\n",
    "plt.text(1, values[1] + 3, change_text, ha='center', fontsize=10, fontweight='bold')\n",
    "    \n",
    "\n",
    "plt.ylabel(\"AVG Minutes Per G&A\")\n",
    "plt.xlabel(\"Year\")\n",
    "plt.title(\"AVG Minutes Per G&A (2022 vs 2024)\")\n",
    "\n",
    "plt.show()"
   ]
  },
  {
   "cell_type": "code",
   "execution_count": null,
   "metadata": {},
   "outputs": [],
   "source": []
  }
 ],
 "metadata": {
  "kernelspec": {
   "display_name": "base",
   "language": "python",
   "name": "python3"
  },
  "language_info": {
   "codemirror_mode": {
    "name": "ipython",
    "version": 3
   },
   "file_extension": ".py",
   "mimetype": "text/x-python",
   "name": "python",
   "nbconvert_exporter": "python",
   "pygments_lexer": "ipython3",
   "version": "3.12.7"
  }
 },
 "nbformat": 4,
 "nbformat_minor": 2
}
